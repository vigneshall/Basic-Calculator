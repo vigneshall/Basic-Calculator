{
 "cells": [
  {
   "cell_type": "code",
   "execution_count": 2,
   "id": "e7fc45f1-a6fe-4097-b638-cbed0634bff4",
   "metadata": {},
   "outputs": [
    {
     "name": "stdout",
     "output_type": "stream",
     "text": [
      "Select operation:\n",
      "1. Add\n",
      "2. Subtract\n",
      "3. Multiply\n",
      "4. Divide\n"
     ]
    },
    {
     "name": "stdin",
     "output_type": "stream",
     "text": [
      "Enter choice (1/2/3/4):  1\n",
      "Enter first number:  5\n",
      "Enter second number:  5\n"
     ]
    },
    {
     "name": "stdout",
     "output_type": "stream",
     "text": [
      "Result: 10.0\n"
     ]
    }
   ],
   "source": [
    "print(\"Select operation:\")\n",
    "print(\"1. Add\")\n",
    "print(\"2. Subtract\")\n",
    "print(\"3. Multiply\")\n",
    "print(\"4. Divide\")\n",
    "\n",
    "choice = input(\"Enter choice (1/2/3/4): \")\n",
    "\n",
    "num1 = float(input(\"Enter first number: \"))\n",
    "num2 = float(input(\"Enter second number: \"))\n",
    "\n",
    "if choice == '1':\n",
    "    print(f\"Result: {num1 + num2}\")\n",
    "elif choice == '2':\n",
    "    print(f\"Result: {num1 - num2}\")\n",
    "elif choice == '3':\n",
    "    print(f\"Result: {num1 * num2}\")\n",
    "elif choice == '4':\n",
    "    if num2 != 0:\n",
    "        print(f\"Result: {num1 / num2}\")\n",
    "    else:\n",
    "        print(\"Error: Cannot divide by zero\")\n",
    "else:\n",
    "    print(\"Invalid input\")\n"
   ]
  },
  {
   "cell_type": "code",
   "execution_count": 30,
   "id": "0c67cc59-9449-480e-bcda-0999ca4ef035",
   "metadata": {},
   "outputs": [],
   "source": [
    "import tkinter as tk\n",
    "\n",
    "def click(event):\n",
    "    text = event.widget.cget(\"text\")\n",
    "    if text == \"=\":\n",
    "        try:\n",
    "            result = str(eval(str(screen.get())))\n",
    "            screen.set(result)\n",
    "        except:\n",
    "            screen.set(\"Error\")\n",
    "    elif text == \"C\":\n",
    "        screen.set(\"\")\n",
    "    else:\n",
    "        screen.set(screen.get() + text)\n",
    "\n",
    "root = tk.Tk()\n",
    "root.geometry(\"400x500\")\n",
    "root.title(\"Calculator By Vignesh.A\")\n",
    "\n",
    "screen = tk.StringVar()\n",
    "entry = tk.Entry(root, textvar=screen, font=\"Arial 20\")\n",
    "entry.pack(fill=\"both\", ipadx=8, pady=10, padx=10)\n",
    "\n",
    "frame = tk.Frame(root)\n",
    "frame.pack()\n",
    "\n",
    "buttons = [\n",
    "    [\"7\", \"8\", \"9\", \"/\"],\n",
    "    [\"4\", \"5\", \"6\", \"*\"],\n",
    "    [\"1\", \"2\", \"3\", \"-\"],\n",
    "    [\"C\", \"0\", \"=\", \"+\"]\n",
    "]\n",
    "\n",
    "for row in buttons:\n",
    "    row_frame = tk.Frame(frame)\n",
    "    row_frame.pack()\n",
    "    for btn in row:\n",
    "        b = tk.Button(row_frame, text=btn, font=\"Arial 18\", width=5, height=2)\n",
    "        b.pack(side=\"left\", padx=5, pady=5)\n",
    "        b.bind(\"<Button-1>\", click)\n",
    "\n",
    "root.mainloop()\n"
   ]
  },
  {
   "cell_type": "code",
   "execution_count": null,
   "id": "e38d3622-d3e1-4bcf-99a1-d64e03a3eaa0",
   "metadata": {},
   "outputs": [],
   "source": []
  }
 ],
 "metadata": {
  "kernelspec": {
   "display_name": "Python [conda env:base] *",
   "language": "python",
   "name": "conda-base-py"
  },
  "language_info": {
   "codemirror_mode": {
    "name": "ipython",
    "version": 3
   },
   "file_extension": ".py",
   "mimetype": "text/x-python",
   "name": "python",
   "nbconvert_exporter": "python",
   "pygments_lexer": "ipython3",
   "version": "3.12.7"
  }
 },
 "nbformat": 4,
 "nbformat_minor": 5
}
